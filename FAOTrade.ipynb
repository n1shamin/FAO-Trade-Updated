{
 "cells": [
  {
   "cell_type": "code",
   "execution_count": 1,
   "id": "97df71cf",
   "metadata": {},
   "outputs": [],
   "source": [
    "import pandas as pd"
   ]
  },
  {
   "cell_type": "code",
   "execution_count": 2,
   "id": "6cca755b",
   "metadata": {},
   "outputs": [],
   "source": [
    "df = pd.read_csv('Trade_CropsLivestock_E_All_Data_(Normalized).csv', low_memory=False)"
   ]
  },
  {
   "cell_type": "code",
   "execution_count": 3,
   "id": "57c7a6d1",
   "metadata": {},
   "outputs": [
    {
     "name": "stdout",
     "output_type": "stream",
     "text": [
      "First row of the dataset:\n",
      "Area Code                                                       2\n",
      "Area Code (M49)                                              '004\n",
      "Area                                                  Afghanistan\n",
      "Item Code                                                     221\n",
      "Item Code (CPC)                                            '01371\n",
      "Item                                            Almonds, in shell\n",
      "Element Code                                                 5610\n",
      "Element                                           Import quantity\n",
      "Year Code                                                    2014\n",
      "Year                                                         2014\n",
      "Unit                                                            t\n",
      "Value                                                       34.46\n",
      "Flag                                                            X\n",
      "Note               Estimated data using trading partners database\n",
      "Name: 0, dtype: object\n"
     ]
    }
   ],
   "source": [
    "print(\"First row of the dataset:\")\n",
    "print(df.iloc[0])"
   ]
  },
  {
   "cell_type": "code",
   "execution_count": null,
   "id": "d6d0c0f6",
   "metadata": {},
   "outputs": [],
   "source": [
    "df['Element'] = df['Element'].astype(str).str.strip().str.lower()\n",
    "df['Item Code (CPC)'] = (\n",
    "    df['Item Code (CPC)']\n",
    "    .astype(str)\n",
    "    .str.strip()\n",
    "    .str.replace(\"'\", \"\")\n",
    ")"
   ]
  },
  {
   "cell_type": "code",
   "execution_count": null,
   "id": "c2cd434e",
   "metadata": {},
   "outputs": [],
   "source": [
    "#crops\n",
    "elements = [\"import value\", \"export value\", \"import quantity\", \"export quantity\"]\n",
    "item_codes = [\n",
    "    'F1972', 'F1900', 'F1901', 'F1902', 'F1892', 'F1846', 'F1896', 'F1788', 'F1899', 'F1849', 'F1944', \n",
    "    'F1941', 'F1802', 'F1734', 'F1954', 'F1719', 'F1773', 'F1723', 'F1907', 'F1908', 'F1890'\n",
    "]"
   ]
  },
  {
   "cell_type": "code",
   "execution_count": null,
   "id": "f6702fa3",
   "metadata": {},
   "outputs": [],
   "source": [
    "#meat\n",
    "#elements = [\"import value\", \"export value\", \"import quantity\", \"export quantity\"]\n",
    "#item_codes = [\n",
    "#    'F1898', 'F1975', 'F2071', 'F2074', 'F2073', 'F2076', 'F1887', 'F1782'\n",
    "#]"
   ]
  },
  {
   "cell_type": "code",
   "execution_count": 17,
   "id": "cb474d9d",
   "metadata": {},
   "outputs": [
    {
     "name": "stdout",
     "output_type": "stream",
     "text": [
      "import value: 4749132 total rows\n",
      "import value: 283045 rows after Item Code filter\n",
      "Saved: CROPS_import_value.xlsx\n",
      "export value: 3809363 total rows\n",
      "export value: 257403 rows after Item Code filter\n",
      "Saved: CROPS_export_value.xlsx\n",
      "import quantity: 4534457 total rows\n",
      "import quantity: 267971 rows after Item Code filter\n",
      "Saved: CROPS_import_quantity.xlsx\n",
      "export quantity: 3598393 total rows\n",
      "export quantity: 240448 rows after Item Code filter\n",
      "Saved: CROPS_export_quantity.xlsx\n"
     ]
    }
   ],
   "source": [
    "\n",
    "country_map = {\n",
    "    \"China, mainland\": \"China\",\n",
    "    \"Czechoslovakia\": \"Czech Republic\",\n",
    "    \"Ethiopia PDR\": \"Ethiopia\",\n",
    "    \"USSR\": \"Russian Federation\",\n",
    "    \"Yugoslav SFR\": \"Serbia\",\n",
    "    \"Serbia and Montenegro\": \"Serbia\",\n",
    "    \"Sudan (former)\": \"Sudan\",\n",
    "    \"Türkiye\": \"Turkey\"\n",
    "}\n",
    "\n",
    "for element in elements:\n",
    "    element_df = df[df['Element'] == element]\n",
    "    print(f\"{element}: {len(element_df)} total rows\")\n",
    "\n",
    "    element_df = element_df[element_df['Item Code (CPC)'].isin(item_codes)]\n",
    "    print(f\"{element}: {len(element_df)} rows after Item Code filter\")\n",
    "\n",
    "    if element_df.empty:\n",
    "        continue\n",
    "    element_df['Area'] = element_df['Area'].replace(country_map)\n",
    "    result = element_df.groupby(['Area', 'Year'], as_index=False)['Value'].sum()\n",
    "    output_file = f'CROPS_{element.replace(\" \", \"_\")}.xlsx'\n",
    "    #output_file = f'MEAT_{element.replace(\" \", \"_\")}.xlsx'    \n",
    "    result.to_excel(output_file, index=False)\n",
    "    print(f\"Saved: {output_file}\")"
   ]
  }
 ],
 "metadata": {
  "kernelspec": {
   "display_name": "Python 3",
   "language": "python",
   "name": "python3"
  },
  "language_info": {
   "codemirror_mode": {
    "name": "ipython",
    "version": 3
   },
   "file_extension": ".py",
   "mimetype": "text/x-python",
   "name": "python",
   "nbconvert_exporter": "python",
   "pygments_lexer": "ipython3",
   "version": "3.13.5"
  }
 },
 "nbformat": 4,
 "nbformat_minor": 5
}
